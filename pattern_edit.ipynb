{
 "cells": [
  {
   "cell_type": "markdown",
   "metadata": {},
   "source": [
    "Используя данные о покупках, выясните, какие пары товаров пользователи чаще всего покупают вместе. Необходимо найти паттерны покупок, что позволит оптимизировать размещение продуктов в магазине, для удобства пользователей и увеличения выручки.\n",
    "\n",
    "Результат свести в таблицу со следующими данными:\n",
    "* 1_Товар – наименование первого товара\n",
    "* 2_Товар – наименование второго товара\n",
    "* Встречаемость – число раз, когда такая пара была встречена"
   ]
  },
  {
   "cell_type": "code",
   "execution_count": 1,
   "metadata": {},
   "outputs": [],
   "source": [
    "import pandas as pd\n",
    "import numpy as np"
   ]
  },
  {
   "cell_type": "code",
   "execution_count": 2,
   "metadata": {},
   "outputs": [],
   "source": [
    "path = 'https://stepik.org/media/attachments/lesson/409319/test1_completed.csv'"
   ]
  },
  {
   "cell_type": "markdown",
   "metadata": {},
   "source": [
    "Считываем данные:"
   ]
  },
  {
   "cell_type": "code",
   "execution_count": 3,
   "metadata": {},
   "outputs": [],
   "source": [
    "vegan = pd.read_csv(path)"
   ]
  },
  {
   "cell_type": "code",
   "execution_count": 4,
   "metadata": {},
   "outputs": [
    {
     "data": {
      "text/html": [
       "<div>\n",
       "<style scoped>\n",
       "    .dataframe tbody tr th:only-of-type {\n",
       "        vertical-align: middle;\n",
       "    }\n",
       "\n",
       "    .dataframe tbody tr th {\n",
       "        vertical-align: top;\n",
       "    }\n",
       "\n",
       "    .dataframe thead th {\n",
       "        text-align: right;\n",
       "    }\n",
       "</style>\n",
       "<table border=\"1\" class=\"dataframe\">\n",
       "  <thead>\n",
       "    <tr style=\"text-align: right;\">\n",
       "      <th></th>\n",
       "      <th>id</th>\n",
       "      <th>Товар</th>\n",
       "      <th>Количество</th>\n",
       "    </tr>\n",
       "  </thead>\n",
       "  <tbody>\n",
       "    <tr>\n",
       "      <th>0</th>\n",
       "      <td>17119</td>\n",
       "      <td>Лимон</td>\n",
       "      <td>1.1</td>\n",
       "    </tr>\n",
       "    <tr>\n",
       "      <th>1</th>\n",
       "      <td>17119</td>\n",
       "      <td>Лимон оранжевый</td>\n",
       "      <td>0.7</td>\n",
       "    </tr>\n",
       "    <tr>\n",
       "      <th>2</th>\n",
       "      <td>17119</td>\n",
       "      <td>Лук-порей</td>\n",
       "      <td>10.0</td>\n",
       "    </tr>\n",
       "    <tr>\n",
       "      <th>3</th>\n",
       "      <td>17119</td>\n",
       "      <td>Лук репчатый</td>\n",
       "      <td>2.5</td>\n",
       "    </tr>\n",
       "    <tr>\n",
       "      <th>4</th>\n",
       "      <td>17119</td>\n",
       "      <td>Малина свежая</td>\n",
       "      <td>1.0</td>\n",
       "    </tr>\n",
       "  </tbody>\n",
       "</table>\n",
       "</div>"
      ],
      "text/plain": [
       "      id            Товар  Количество\n",
       "0  17119            Лимон         1.1\n",
       "1  17119  Лимон оранжевый         0.7\n",
       "2  17119        Лук-порей        10.0\n",
       "3  17119     Лук репчатый         2.5\n",
       "4  17119    Малина свежая         1.0"
      ]
     },
     "execution_count": 4,
     "metadata": {},
     "output_type": "execute_result"
    }
   ],
   "source": [
    "vegan.head(5)"
   ]
  },
  {
   "cell_type": "markdown",
   "metadata": {},
   "source": [
    "Посмотрим размер датафрейма, типы данных:"
   ]
  },
  {
   "cell_type": "code",
   "execution_count": 5,
   "metadata": {},
   "outputs": [
    {
     "data": {
      "text/plain": [
       "(43514, 3)"
      ]
     },
     "execution_count": 5,
     "metadata": {},
     "output_type": "execute_result"
    }
   ],
   "source": [
    "vegan.shape"
   ]
  },
  {
   "cell_type": "code",
   "execution_count": 6,
   "metadata": {},
   "outputs": [
    {
     "data": {
      "text/plain": [
       "id              int64\n",
       "Товар          object\n",
       "Количество    float64\n",
       "dtype: object"
      ]
     },
     "execution_count": 6,
     "metadata": {},
     "output_type": "execute_result"
    }
   ],
   "source": [
    "vegan.dtypes"
   ]
  },
  {
   "cell_type": "markdown",
   "metadata": {},
   "source": [
    "Удалим данные с количеством купленных товаров `Количество`. Для исследования паттернов покупок нам они не нужны."
   ]
  },
  {
   "cell_type": "code",
   "execution_count": 7,
   "metadata": {},
   "outputs": [],
   "source": [
    "vegan.drop(columns = 'Количество', inplace = True)"
   ]
  },
  {
   "cell_type": "markdown",
   "metadata": {},
   "source": [
    "Переименуем колонки для удобства обращения к данным:"
   ]
  },
  {
   "cell_type": "code",
   "execution_count": 8,
   "metadata": {},
   "outputs": [
    {
     "data": {
      "text/html": [
       "<div>\n",
       "<style scoped>\n",
       "    .dataframe tbody tr th:only-of-type {\n",
       "        vertical-align: middle;\n",
       "    }\n",
       "\n",
       "    .dataframe tbody tr th {\n",
       "        vertical-align: top;\n",
       "    }\n",
       "\n",
       "    .dataframe thead th {\n",
       "        text-align: right;\n",
       "    }\n",
       "</style>\n",
       "<table border=\"1\" class=\"dataframe\">\n",
       "  <thead>\n",
       "    <tr style=\"text-align: right;\">\n",
       "      <th></th>\n",
       "      <th>purchase_id</th>\n",
       "      <th>product_name</th>\n",
       "    </tr>\n",
       "  </thead>\n",
       "  <tbody>\n",
       "    <tr>\n",
       "      <th>0</th>\n",
       "      <td>17119</td>\n",
       "      <td>Лимон</td>\n",
       "    </tr>\n",
       "    <tr>\n",
       "      <th>1</th>\n",
       "      <td>17119</td>\n",
       "      <td>Лимон оранжевый</td>\n",
       "    </tr>\n",
       "    <tr>\n",
       "      <th>2</th>\n",
       "      <td>17119</td>\n",
       "      <td>Лук-порей</td>\n",
       "    </tr>\n",
       "    <tr>\n",
       "      <th>3</th>\n",
       "      <td>17119</td>\n",
       "      <td>Лук репчатый</td>\n",
       "    </tr>\n",
       "    <tr>\n",
       "      <th>4</th>\n",
       "      <td>17119</td>\n",
       "      <td>Малина свежая</td>\n",
       "    </tr>\n",
       "  </tbody>\n",
       "</table>\n",
       "</div>"
      ],
      "text/plain": [
       "   purchase_id     product_name\n",
       "0        17119            Лимон\n",
       "1        17119  Лимон оранжевый\n",
       "2        17119        Лук-порей\n",
       "3        17119     Лук репчатый\n",
       "4        17119    Малина свежая"
      ]
     },
     "execution_count": 8,
     "metadata": {},
     "output_type": "execute_result"
    }
   ],
   "source": [
    "vegan = vegan.rename(columns = {'id':'purchase_id', 'Товар':'product_name'})\n",
    "vegan.head()"
   ]
  },
  {
   "cell_type": "markdown",
   "metadata": {},
   "source": [
    "Количество покупок:"
   ]
  },
  {
   "cell_type": "code",
   "execution_count": 9,
   "metadata": {},
   "outputs": [
    {
     "data": {
      "text/plain": [
       "3273"
      ]
     },
     "execution_count": 9,
     "metadata": {},
     "output_type": "execute_result"
    }
   ],
   "source": [
    "vegan.purchase_id.nunique()"
   ]
  },
  {
   "cell_type": "markdown",
   "metadata": {},
   "source": [
    "Количество наименований товаров:"
   ]
  },
  {
   "cell_type": "code",
   "execution_count": 10,
   "metadata": {},
   "outputs": [
    {
     "data": {
      "text/plain": [
       "199"
      ]
     },
     "execution_count": 10,
     "metadata": {},
     "output_type": "execute_result"
    }
   ],
   "source": [
    "vegan.product_name.nunique()"
   ]
  },
  {
   "cell_type": "markdown",
   "metadata": {},
   "source": [
    "Посмотрим на самые часто встречающиеся товары (пока не пары). Для контроля результата."
   ]
  },
  {
   "cell_type": "code",
   "execution_count": 11,
   "metadata": {},
   "outputs": [
    {
     "data": {
      "text/plain": [
       "Огурцы Луховицкие          1022\n",
       "Арбуз                       978\n",
       "Укроп                       828\n",
       "Бананы                      691\n",
       "Кабачки                     662\n",
       "Лук репчатый                606\n",
       "Персики азербайджанские     596\n",
       "Баклажаны грунтовые         590\n",
       "Name: product_name, dtype: int64"
      ]
     },
     "execution_count": 11,
     "metadata": {},
     "output_type": "execute_result"
    }
   ],
   "source": [
    "vegan.product_name.value_counts().sort_values(ascending = False).head(8)"
   ]
  },
  {
   "cell_type": "markdown",
   "metadata": {},
   "source": [
    "Проверка на пропущенные данные:"
   ]
  },
  {
   "cell_type": "code",
   "execution_count": 12,
   "metadata": {},
   "outputs": [
    {
     "data": {
      "text/plain": [
       "purchase_id     0\n",
       "product_name    0\n",
       "dtype: int64"
      ]
     },
     "execution_count": 12,
     "metadata": {},
     "output_type": "execute_result"
    }
   ],
   "source": [
    "vegan.isna().sum()"
   ]
  },
  {
   "cell_type": "markdown",
   "metadata": {},
   "source": [
    "Для решения задачи создадим датафрейм со всеми парами товаров. \n",
    "\n",
    "Функция `bascet_couple` возвращает датафрейм с парами товаров из асортиментного ряда, который есть в исходных данных."
   ]
  },
  {
   "cell_type": "code",
   "execution_count": 13,
   "metadata": {},
   "outputs": [],
   "source": [
    "def bascet_couple(product_list):\n",
    "    \"\"\"\n",
    "    функция формирует из ассортимента товара в покупке серию с парами товаров\n",
    "    два цикла: в первом фиксируем 1-ое наименование товара (level_1), \n",
    "    второй - проходит по всем оставшимся товарам (level_2),\n",
    "    таким образом создаются все комбинации пар товаров,\n",
    "    далее смещаемся на следующее наименование товара и проходим цикл  \n",
    "    \"\"\"\n",
    "    product_list = sorted(product_list)\n",
    "    list_of_pairs = [(product_list[level_1], product_list[level_2]) \n",
    "                     for level_1 in range(len(product_list)) \n",
    "                     for level_2 in range(level_1+1,len(product_list))]\n",
    "    return pd.Series(list_of_pairs, dtype = 'str')"
   ]
  },
  {
   "cell_type": "markdown",
   "metadata": {},
   "source": [
    "Запускаем функцию `bascet_couple` для создания датафрейма с парами продуктов из покупок и считаем количество повторов пар товаров, переименовываем  названия колонок и делаем сортировку по `Встречаемости`:"
   ]
  },
  {
   "cell_type": "code",
   "execution_count": 14,
   "metadata": {},
   "outputs": [
    {
     "name": "stdout",
     "output_type": "stream",
     "text": [
      "CPU times: user 11.3 s, sys: 127 ms, total: 11.5 s\n",
      "Wall time: 11.4 s\n"
     ]
    }
   ],
   "source": [
    "%%time\n",
    "vegan_pair = vegan.groupby('purchase_id')\\\n",
    "                  .product_name\\\n",
    "                  .apply(bascet_couple)\\\n",
    "                  .value_counts()\\\n",
    "                  .reset_index()\\\n",
    "                  .rename(columns = {'index':'pair_products', 'product_name':'Встречаемость'})\\\n",
    "                  .sort_values('Встречаемость', ascending = False)\n"
   ]
  },
  {
   "cell_type": "markdown",
   "metadata": {},
   "source": [
    "Посмотрим на первые строки получившегося датафрейма с паттернами покупок:"
   ]
  },
  {
   "cell_type": "code",
   "execution_count": 15,
   "metadata": {},
   "outputs": [
    {
     "data": {
      "text/html": [
       "<div>\n",
       "<style scoped>\n",
       "    .dataframe tbody tr th:only-of-type {\n",
       "        vertical-align: middle;\n",
       "    }\n",
       "\n",
       "    .dataframe tbody tr th {\n",
       "        vertical-align: top;\n",
       "    }\n",
       "\n",
       "    .dataframe thead th {\n",
       "        text-align: right;\n",
       "    }\n",
       "</style>\n",
       "<table border=\"1\" class=\"dataframe\">\n",
       "  <thead>\n",
       "    <tr style=\"text-align: right;\">\n",
       "      <th></th>\n",
       "      <th>pair_products</th>\n",
       "      <th>Встречаемость</th>\n",
       "    </tr>\n",
       "  </thead>\n",
       "  <tbody>\n",
       "    <tr>\n",
       "      <th>0</th>\n",
       "      <td>(Огурцы Луховицкие, Укроп)</td>\n",
       "      <td>431</td>\n",
       "    </tr>\n",
       "    <tr>\n",
       "      <th>1</th>\n",
       "      <td>(Петрушка, Укроп)</td>\n",
       "      <td>408</td>\n",
       "    </tr>\n",
       "    <tr>\n",
       "      <th>2</th>\n",
       "      <td>(Арбуз, Огурцы Луховицкие)</td>\n",
       "      <td>345</td>\n",
       "    </tr>\n",
       "    <tr>\n",
       "      <th>3</th>\n",
       "      <td>(Кабачки, Огурцы Луховицкие)</td>\n",
       "      <td>326</td>\n",
       "    </tr>\n",
       "    <tr>\n",
       "      <th>4</th>\n",
       "      <td>(Кинза, Укроп)</td>\n",
       "      <td>303</td>\n",
       "    </tr>\n",
       "  </tbody>\n",
       "</table>\n",
       "</div>"
      ],
      "text/plain": [
       "                  pair_products  Встречаемость\n",
       "0    (Огурцы Луховицкие, Укроп)            431\n",
       "1             (Петрушка, Укроп)            408\n",
       "2    (Арбуз, Огурцы Луховицкие)            345\n",
       "3  (Кабачки, Огурцы Луховицкие)            326\n",
       "4                (Кинза, Укроп)            303"
      ]
     },
     "execution_count": 15,
     "metadata": {},
     "output_type": "execute_result"
    }
   ],
   "source": [
    "vegan_pair.head()"
   ]
  },
  {
   "cell_type": "markdown",
   "metadata": {},
   "source": [
    "Дорабатываем получившийся датафрейм с паттернами покупок в соответствии с заданием:\n",
    "* разобъем колонку с парами продуктов на колонки требуемые в задаче `1_Товар`,`2_Товар`\n",
    "* удалим колонку с парами продуктов `pair_products`\n",
    "* изменим очередность колонок в результирующем датафрейме в соответстви с заданием\n",
    "* выведем первые 5 строк итогового датафрейма с наиболее распространенными паттернами покупок"
   ]
  },
  {
   "cell_type": "code",
   "execution_count": 16,
   "metadata": {},
   "outputs": [
    {
     "data": {
      "text/html": [
       "<div>\n",
       "<style scoped>\n",
       "    .dataframe tbody tr th:only-of-type {\n",
       "        vertical-align: middle;\n",
       "    }\n",
       "\n",
       "    .dataframe tbody tr th {\n",
       "        vertical-align: top;\n",
       "    }\n",
       "\n",
       "    .dataframe thead th {\n",
       "        text-align: right;\n",
       "    }\n",
       "</style>\n",
       "<table border=\"1\" class=\"dataframe\">\n",
       "  <thead>\n",
       "    <tr style=\"text-align: right;\">\n",
       "      <th></th>\n",
       "      <th>1_Товар</th>\n",
       "      <th>2_Товар</th>\n",
       "      <th>Встречаемость</th>\n",
       "    </tr>\n",
       "  </thead>\n",
       "  <tbody>\n",
       "    <tr>\n",
       "      <th>0</th>\n",
       "      <td>Огурцы Луховицкие</td>\n",
       "      <td>Укроп</td>\n",
       "      <td>431</td>\n",
       "    </tr>\n",
       "    <tr>\n",
       "      <th>1</th>\n",
       "      <td>Петрушка</td>\n",
       "      <td>Укроп</td>\n",
       "      <td>408</td>\n",
       "    </tr>\n",
       "    <tr>\n",
       "      <th>2</th>\n",
       "      <td>Арбуз</td>\n",
       "      <td>Огурцы Луховицкие</td>\n",
       "      <td>345</td>\n",
       "    </tr>\n",
       "    <tr>\n",
       "      <th>3</th>\n",
       "      <td>Кабачки</td>\n",
       "      <td>Огурцы Луховицкие</td>\n",
       "      <td>326</td>\n",
       "    </tr>\n",
       "    <tr>\n",
       "      <th>4</th>\n",
       "      <td>Кинза</td>\n",
       "      <td>Укроп</td>\n",
       "      <td>303</td>\n",
       "    </tr>\n",
       "  </tbody>\n",
       "</table>\n",
       "</div>"
      ],
      "text/plain": [
       "             1_Товар            2_Товар  Встречаемость\n",
       "0  Огурцы Луховицкие              Укроп            431\n",
       "1           Петрушка              Укроп            408\n",
       "2              Арбуз  Огурцы Луховицкие            345\n",
       "3            Кабачки  Огурцы Луховицкие            326\n",
       "4              Кинза              Укроп            303"
      ]
     },
     "execution_count": 16,
     "metadata": {},
     "output_type": "execute_result"
    }
   ],
   "source": [
    "vegan_pair['1_Товар'] = vegan_pair.pair_products.str[0]\n",
    "vegan_pair['2_Товар'] = vegan_pair.pair_products.str[1]\n",
    "vegan_pair.drop(columns = 'pair_products', inplace = True)\n",
    "columns_result = ['1_Товар', '2_Товар', 'Встречаемость']\n",
    "vegan_pair = vegan_pair.reindex(columns = columns_result)\n",
    "vegan_pair.head()"
   ]
  },
  {
   "cell_type": "markdown",
   "metadata": {},
   "source": [
    "Вывод таблицы с 5 наиболее встречающимися паттернов покупок:"
   ]
  },
  {
   "cell_type": "code",
   "execution_count": 17,
   "metadata": {},
   "outputs": [
    {
     "data": {
      "text/html": [
       "<style  type=\"text/css\" >\n",
       "</style><table id=\"T_f6dfcfb0_2fd2_11eb_af76_96000040dfb6\" ><caption>Топ-5 паттернов продуктов</caption><thead>    <tr>        <th class=\"col_heading level0 col0\" >1_Товар</th>        <th class=\"col_heading level0 col1\" >2_Товар</th>        <th class=\"col_heading level0 col2\" >Встречаемость</th>    </tr></thead><tbody>\n",
       "                <tr>\n",
       "                                <td id=\"T_f6dfcfb0_2fd2_11eb_af76_96000040dfb6row0_col0\" class=\"data row0 col0\" >Огурцы Луховицкие</td>\n",
       "                        <td id=\"T_f6dfcfb0_2fd2_11eb_af76_96000040dfb6row0_col1\" class=\"data row0 col1\" >Укроп</td>\n",
       "                        <td id=\"T_f6dfcfb0_2fd2_11eb_af76_96000040dfb6row0_col2\" class=\"data row0 col2\" >431</td>\n",
       "            </tr>\n",
       "            <tr>\n",
       "                                <td id=\"T_f6dfcfb0_2fd2_11eb_af76_96000040dfb6row1_col0\" class=\"data row1 col0\" >Петрушка</td>\n",
       "                        <td id=\"T_f6dfcfb0_2fd2_11eb_af76_96000040dfb6row1_col1\" class=\"data row1 col1\" >Укроп</td>\n",
       "                        <td id=\"T_f6dfcfb0_2fd2_11eb_af76_96000040dfb6row1_col2\" class=\"data row1 col2\" >408</td>\n",
       "            </tr>\n",
       "            <tr>\n",
       "                                <td id=\"T_f6dfcfb0_2fd2_11eb_af76_96000040dfb6row2_col0\" class=\"data row2 col0\" >Арбуз</td>\n",
       "                        <td id=\"T_f6dfcfb0_2fd2_11eb_af76_96000040dfb6row2_col1\" class=\"data row2 col1\" >Огурцы Луховицкие</td>\n",
       "                        <td id=\"T_f6dfcfb0_2fd2_11eb_af76_96000040dfb6row2_col2\" class=\"data row2 col2\" >345</td>\n",
       "            </tr>\n",
       "            <tr>\n",
       "                                <td id=\"T_f6dfcfb0_2fd2_11eb_af76_96000040dfb6row3_col0\" class=\"data row3 col0\" >Кабачки</td>\n",
       "                        <td id=\"T_f6dfcfb0_2fd2_11eb_af76_96000040dfb6row3_col1\" class=\"data row3 col1\" >Огурцы Луховицкие</td>\n",
       "                        <td id=\"T_f6dfcfb0_2fd2_11eb_af76_96000040dfb6row3_col2\" class=\"data row3 col2\" >326</td>\n",
       "            </tr>\n",
       "            <tr>\n",
       "                                <td id=\"T_f6dfcfb0_2fd2_11eb_af76_96000040dfb6row4_col0\" class=\"data row4 col0\" >Кинза</td>\n",
       "                        <td id=\"T_f6dfcfb0_2fd2_11eb_af76_96000040dfb6row4_col1\" class=\"data row4 col1\" >Укроп</td>\n",
       "                        <td id=\"T_f6dfcfb0_2fd2_11eb_af76_96000040dfb6row4_col2\" class=\"data row4 col2\" >303</td>\n",
       "            </tr>\n",
       "    </tbody></table>"
      ],
      "text/plain": [
       "<pandas.io.formats.style.Styler at 0x7efbfe4e72e8>"
      ]
     },
     "execution_count": 17,
     "metadata": {},
     "output_type": "execute_result"
    }
   ],
   "source": [
    "top_5 = (vegan_pair.iloc[:5]\n",
    "        .style\n",
    "        .hide_index()\n",
    "        .set_caption('Топ-5 паттернов продуктов'))\n",
    "top_5"
   ]
  }
 ],
 "metadata": {
  "kernelspec": {
   "display_name": "Python 3",
   "language": "python",
   "name": "python3"
  },
  "language_info": {
   "codemirror_mode": {
    "name": "ipython",
    "version": 3
   },
   "file_extension": ".py",
   "mimetype": "text/x-python",
   "name": "python",
   "nbconvert_exporter": "python",
   "pygments_lexer": "ipython3",
   "version": "3.8.5"
  }
 },
 "nbformat": 4,
 "nbformat_minor": 4
}
